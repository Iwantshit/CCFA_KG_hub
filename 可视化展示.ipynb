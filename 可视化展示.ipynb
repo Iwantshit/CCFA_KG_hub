{
 "cells": [
  {
   "cell_type": "code",
   "execution_count": 1,
   "id": "c4d31275-d1f7-4bf9-bd32-573bc595d187",
   "metadata": {
    "jupyter": {
     "is_executing": true
    }
   },
   "outputs": [],
   "source": [
    "import pandas as pd\n",
    "from pyvis.network import Network"
   ]
  },
  {
   "cell_type": "code",
   "execution_count": 2,
   "id": "2c10a192-9dbe-43a1-ad5d-d920c5d55099",
   "metadata": {},
   "outputs": [
    {
     "name": "stdout",
     "output_type": "stream",
     "text": [
      "Warning: When  cdn_resources is 'local' jupyter notebook has issues displaying graphics on chrome/safari. Use cdn_resources='in_line' or cdn_resources='remote' if you have issues viewing graphics in a notebook.\n"
     ]
    }
   ],
   "source": [
    "df = pd.read_csv(\"triplets.csv\")\n",
    "# 初始化\n",
    "net = Network(height=\"800px\", width=\"100%\", bgcolor=\"#222222\", font_color=\"white\", notebook=True)\n",
    "# 避免重复添加节点\n",
    "added_nodes = set()"
   ]
  },
  {
   "cell_type": "code",
   "execution_count": 3,
   "id": "000f2b66-aefd-401e-ad2a-8c0d3646942f",
   "metadata": {},
   "outputs": [],
   "source": [
    "for _, row in df.iterrows():\n",
    "    head, relation, tail = row['head'], row['relation'], row['tail']\n",
    "    for node in [head, tail]:\n",
    "        if node not in added_nodes:\n",
    "            net.add_node(node, label=node, title=node)\n",
    "            added_nodes.add(node)\n",
    "\n",
    "    # 添加边（用 relation 作为 label）\n",
    "    net.add_edge(head, tail, label=relation)"
   ]
  },
  {
   "cell_type": "code",
   "execution_count": 4,
   "id": "4c2ae9f6-3ca3-4141-a668-8221937d286d",
   "metadata": {},
   "outputs": [
    {
     "name": "stdout",
     "output_type": "stream",
     "text": [
      "knowledge_graph.html\n"
     ]
    },
    {
     "data": {
      "text/html": [
       "\n",
       "        <iframe\n",
       "            width=\"100%\"\n",
       "            height=\"800px\"\n",
       "            src=\"knowledge_graph.html\"\n",
       "            frameborder=\"0\"\n",
       "            allowfullscreen\n",
       "            \n",
       "        ></iframe>\n",
       "        "
      ],
      "text/plain": [
       "<IPython.lib.display.IFrame at 0x226d7619940>"
      ]
     },
     "execution_count": 4,
     "metadata": {},
     "output_type": "execute_result"
    }
   ],
   "source": [
    "net.toggle_physics(True)  # 启用节点物理摆放\n",
    "net.show_buttons(filter_=['physics'])  # 显示布局设置按钮\n",
    "net.show(\"knowledge_graph.html\")  # 输出为 HTML 文件"
   ]
  },
  {
   "cell_type": "code",
   "execution_count": null,
   "id": "cfa4c061-118f-4eb0-87cd-76c0998ce6bb",
   "metadata": {},
   "outputs": [],
   "source": []
  }
 ],
 "metadata": {
  "kernelspec": {
   "display_name": "Python 3 (ipykernel)",
   "language": "python",
   "name": "python3"
  },
  "language_info": {
   "codemirror_mode": {
    "name": "ipython",
    "version": 3
   },
   "file_extension": ".py",
   "mimetype": "text/x-python",
   "name": "python",
   "nbconvert_exporter": "python",
   "pygments_lexer": "ipython3",
   "version": "3.12.1"
  }
 },
 "nbformat": 4,
 "nbformat_minor": 5
}
