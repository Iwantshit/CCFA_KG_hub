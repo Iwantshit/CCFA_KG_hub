{
 "cells": [
  {
   "cell_type": "code",
   "execution_count": 1,
   "id": "8248744d-b378-4727-b020-56a391736e19",
   "metadata": {},
   "outputs": [],
   "source": [
    "import os\n",
    "import glob\n",
    "import torch\n",
    "import pandas as pd\n",
    "from torch.utils.data import Dataset, DataLoader\n",
    "from transformers import BertTokenizer, BertModel\n",
    "import torch.nn as nn\n",
    "import matplotlib.pyplot as plt\n",
    "from sklearn.metrics import accuracy_score, precision_score, recall_score, f1_score"
   ]
  },
  {
   "cell_type": "code",
   "execution_count": 2,
   "id": "7380665c-f0fc-4fe7-b6f2-63d58254f50d",
   "metadata": {},
   "outputs": [],
   "source": [
    "conf_list = [\"AAAI\", \"CVPR\", \"ICML\", \"KDD\", \"NeurIPS1\"]\n",
    "conf_map = {name: i for i, name in enumerate(conf_list)}\n",
    "root_dir = \"spider\"\n",
    "batch_size = 8\n",
    "num_epochs = 100"
   ]
  },
  {
   "cell_type": "code",
   "execution_count": 3,
   "id": "fcc461db-ed3d-4898-8044-27683f576092",
   "metadata": {},
   "outputs": [
    {
     "name": "stdout",
     "output_type": "stream",
     "text": [
      "使用设备: cuda\n"
     ]
    }
   ],
   "source": [
    "device = torch.device(\"cuda\" if torch.cuda.is_available() else \"cpu\")\n",
    "print(\"使用设备:\", device)"
   ]
  },
  {
   "cell_type": "code",
   "execution_count": 4,
   "id": "743d4ed5-76ac-4273-9847-8c1b9ee8fd13",
   "metadata": {},
   "outputs": [],
   "source": [
    "entity_df = pd.read_csv(\"entity_embeddings.csv\", index_col=0)\n",
    "entity_emb_dict = entity_df.to_dict(orient=\"index\")\n",
    "kg_dim = len(next(iter(entity_emb_dict.values())))"
   ]
  },
  {
   "cell_type": "code",
   "execution_count": 5,
   "id": "107877ad-176c-462c-957c-c0bc4dc661f0",
   "metadata": {},
   "outputs": [
    {
     "data": {
      "text/plain": [
       "BertModel(\n",
       "  (embeddings): BertEmbeddings(\n",
       "    (word_embeddings): Embedding(30522, 768, padding_idx=0)\n",
       "    (position_embeddings): Embedding(512, 768)\n",
       "    (token_type_embeddings): Embedding(2, 768)\n",
       "    (LayerNorm): LayerNorm((768,), eps=1e-12, elementwise_affine=True)\n",
       "    (dropout): Dropout(p=0.1, inplace=False)\n",
       "  )\n",
       "  (encoder): BertEncoder(\n",
       "    (layer): ModuleList(\n",
       "      (0-11): 12 x BertLayer(\n",
       "        (attention): BertAttention(\n",
       "          (self): BertSdpaSelfAttention(\n",
       "            (query): Linear(in_features=768, out_features=768, bias=True)\n",
       "            (key): Linear(in_features=768, out_features=768, bias=True)\n",
       "            (value): Linear(in_features=768, out_features=768, bias=True)\n",
       "            (dropout): Dropout(p=0.1, inplace=False)\n",
       "          )\n",
       "          (output): BertSelfOutput(\n",
       "            (dense): Linear(in_features=768, out_features=768, bias=True)\n",
       "            (LayerNorm): LayerNorm((768,), eps=1e-12, elementwise_affine=True)\n",
       "            (dropout): Dropout(p=0.1, inplace=False)\n",
       "          )\n",
       "        )\n",
       "        (intermediate): BertIntermediate(\n",
       "          (dense): Linear(in_features=768, out_features=3072, bias=True)\n",
       "          (intermediate_act_fn): GELUActivation()\n",
       "        )\n",
       "        (output): BertOutput(\n",
       "          (dense): Linear(in_features=3072, out_features=768, bias=True)\n",
       "          (LayerNorm): LayerNorm((768,), eps=1e-12, elementwise_affine=True)\n",
       "          (dropout): Dropout(p=0.1, inplace=False)\n",
       "        )\n",
       "      )\n",
       "    )\n",
       "  )\n",
       "  (pooler): BertPooler(\n",
       "    (dense): Linear(in_features=768, out_features=768, bias=True)\n",
       "    (activation): Tanh()\n",
       "  )\n",
       ")"
      ]
     },
     "execution_count": 5,
     "metadata": {},
     "output_type": "execute_result"
    }
   ],
   "source": [
    "tokenizer = BertTokenizer.from_pretrained(\"bert-base-uncased\")\n",
    "bert_model = BertModel.from_pretrained(\"bert-base-uncased\").to(device)\n",
    "bert_model.eval()  # 推理阶段禁用 dropout"
   ]
  },
  {
   "cell_type": "code",
   "execution_count": 6,
   "id": "78f72bd8-9fdc-460e-94aa-8d5b777ca0d1",
   "metadata": {},
   "outputs": [],
   "source": [
    "class PaperDataset(Dataset):\n",
    "    def __init__(self, root_dir):\n",
    "        self.samples = []\n",
    "        self.text_features = []\n",
    "        self.labels = []\n",
    "\n",
    "        for conf in conf_list:\n",
    "            txt_dir = os.path.join(root_dir, conf, \"txt\")\n",
    "            for path in glob.glob(os.path.join(txt_dir, \"*.txt\")):\n",
    "                with open(path, \"r\", encoding=\"utf-8\", errors=\"ignore\") as f:\n",
    "                    text = f.read()\n",
    "                paper_id = os.path.basename(path).replace(\".txt\", \"\")\n",
    "                label = conf_map[conf]\n",
    "\n",
    "                # 提取 BERT 文本嵌入（提前缓存）\n",
    "                tokens = tokenizer(text, return_tensors=\"pt\", truncation=True, padding=\"max_length\", max_length=256).to(device)\n",
    "                with torch.no_grad():\n",
    "                    text_emb = bert_model(**tokens).pooler_output.squeeze(0).cpu()  # 保存在 CPU，稍后统一转 device\n",
    "\n",
    "                self.samples.append(paper_id)\n",
    "                self.text_features.append(text_emb)\n",
    "                self.labels.append(label)\n",
    "\n",
    "    def __len__(self):\n",
    "        return len(self.samples)\n",
    "\n",
    "    def __getitem__(self, idx):\n",
    "        paper_id = self.samples[idx]\n",
    "        label = torch.tensor(self.labels[idx], dtype=torch.long)\n",
    "        text_emb = self.text_features[idx].to(device)  # 显式转移到 device\n",
    "\n",
    "        # 获取图谱向量（无则填零）\n",
    "        if paper_id in entity_emb_dict:\n",
    "            kg_vector = list(entity_emb_dict[paper_id].values())\n",
    "            kg_emb = torch.tensor(kg_vector, dtype=torch.float)\n",
    "        else:\n",
    "            kg_emb = torch.zeros(kg_dim, dtype=torch.float)\n",
    "\n",
    "        kg_emb = kg_emb.to(device)\n",
    "        return torch.cat([text_emb, kg_emb]), label.to(device)"
   ]
  },
  {
   "cell_type": "code",
   "execution_count": 7,
   "id": "10d36791-159a-4c28-87a7-921679f254da",
   "metadata": {},
   "outputs": [],
   "source": [
    "class PaperClassifier(nn.Module):\n",
    "    def __init__(self, kg_dim, num_classes):\n",
    "        super().__init__()\n",
    "        self.net = nn.Sequential(\n",
    "            nn.Linear(768 + kg_dim, 256),\n",
    "            nn.ReLU(),\n",
    "            nn.Linear(256, num_classes)\n",
    "        )\n",
    "\n",
    "    def forward(self, x):\n",
    "        return self.net(x)\n"
   ]
  },
  {
   "cell_type": "code",
   "execution_count": 8,
   "id": "bfe61a76-5986-4d2a-9df2-e98d11f29fb3",
   "metadata": {},
   "outputs": [],
   "source": [
    "dataset = PaperDataset(root_dir)\n",
    "dataloader = DataLoader(dataset, batch_size=batch_size, shuffle=True)\n",
    "model = PaperClassifier(kg_dim=kg_dim, num_classes=len(conf_list)).to(device)\n",
    "criterion = nn.CrossEntropyLoss()\n",
    "optimizer = torch.optim.Adam(model.parameters(), lr=1e-4)"
   ]
  },
  {
   "cell_type": "code",
   "execution_count": 9,
   "id": "7dd37539-23b6-4784-bfc9-8cb787807492",
   "metadata": {},
   "outputs": [
    {
     "name": "stdout",
     "output_type": "stream",
     "text": [
      "Epoch 1/100 | Loss: 94.5211 | Acc: 0.4141\n",
      "Epoch 2/100 | Loss: 83.1919 | Acc: 0.4747\n",
      "Epoch 3/100 | Loss: 78.7425 | Acc: 0.5354\n",
      "Epoch 4/100 | Loss: 76.5659 | Acc: 0.5438\n",
      "Epoch 5/100 | Loss: 73.7214 | Acc: 0.5455\n",
      "Epoch 6/100 | Loss: 71.4477 | Acc: 0.5943\n",
      "Epoch 7/100 | Loss: 69.6816 | Acc: 0.5791\n",
      "Epoch 8/100 | Loss: 67.2470 | Acc: 0.5909\n",
      "Epoch 9/100 | Loss: 67.0860 | Acc: 0.6010\n",
      "Epoch 10/100 | Loss: 64.9247 | Acc: 0.6296\n",
      "Epoch 11/100 | Loss: 63.8748 | Acc: 0.6296\n",
      "Epoch 12/100 | Loss: 62.8286 | Acc: 0.6279\n",
      "Epoch 13/100 | Loss: 62.0044 | Acc: 0.6532\n",
      "Epoch 14/100 | Loss: 59.9686 | Acc: 0.6330\n",
      "Epoch 15/100 | Loss: 58.6732 | Acc: 0.6785\n",
      "Epoch 16/100 | Loss: 58.0929 | Acc: 0.6801\n",
      "Epoch 17/100 | Loss: 57.4250 | Acc: 0.6667\n",
      "Epoch 18/100 | Loss: 56.3474 | Acc: 0.6818\n",
      "Epoch 19/100 | Loss: 54.6607 | Acc: 0.6970\n",
      "Epoch 20/100 | Loss: 54.2200 | Acc: 0.7121\n",
      "Epoch 21/100 | Loss: 53.7501 | Acc: 0.6987\n",
      "Epoch 22/100 | Loss: 53.0835 | Acc: 0.6852\n",
      "Epoch 23/100 | Loss: 52.3789 | Acc: 0.7037\n",
      "Epoch 24/100 | Loss: 51.4791 | Acc: 0.7138\n",
      "Epoch 25/100 | Loss: 51.5050 | Acc: 0.6953\n",
      "Epoch 26/100 | Loss: 50.4115 | Acc: 0.7138\n",
      "Epoch 27/100 | Loss: 49.7944 | Acc: 0.7239\n",
      "Epoch 28/100 | Loss: 48.9354 | Acc: 0.7374\n",
      "Epoch 29/100 | Loss: 49.1141 | Acc: 0.7239\n",
      "Epoch 30/100 | Loss: 48.8967 | Acc: 0.7424\n",
      "Epoch 31/100 | Loss: 47.9025 | Acc: 0.7340\n",
      "Epoch 32/100 | Loss: 47.2390 | Acc: 0.7492\n",
      "Epoch 33/100 | Loss: 46.9454 | Acc: 0.7424\n",
      "Epoch 34/100 | Loss: 47.5757 | Acc: 0.7256\n",
      "Epoch 35/100 | Loss: 46.8458 | Acc: 0.7475\n",
      "Epoch 36/100 | Loss: 45.8917 | Acc: 0.7576\n",
      "Epoch 37/100 | Loss: 45.7279 | Acc: 0.7576\n",
      "Epoch 38/100 | Loss: 44.7635 | Acc: 0.7508\n",
      "Epoch 39/100 | Loss: 44.2687 | Acc: 0.7609\n",
      "Epoch 40/100 | Loss: 44.4002 | Acc: 0.7677\n",
      "Epoch 41/100 | Loss: 44.2668 | Acc: 0.7694\n",
      "Epoch 42/100 | Loss: 44.4117 | Acc: 0.7508\n",
      "Epoch 43/100 | Loss: 43.2917 | Acc: 0.7559\n",
      "Epoch 44/100 | Loss: 43.2768 | Acc: 0.7660\n",
      "Epoch 45/100 | Loss: 42.4433 | Acc: 0.7677\n",
      "Epoch 46/100 | Loss: 43.0852 | Acc: 0.7761\n",
      "Epoch 47/100 | Loss: 42.0893 | Acc: 0.7660\n",
      "Epoch 48/100 | Loss: 41.9612 | Acc: 0.7660\n",
      "Epoch 49/100 | Loss: 42.0488 | Acc: 0.7828\n",
      "Epoch 50/100 | Loss: 41.5867 | Acc: 0.7694\n",
      "Epoch 51/100 | Loss: 41.2678 | Acc: 0.7778\n",
      "Epoch 52/100 | Loss: 40.3147 | Acc: 0.7677\n",
      "Epoch 53/100 | Loss: 40.5931 | Acc: 0.7727\n",
      "Epoch 54/100 | Loss: 39.9582 | Acc: 0.7677\n",
      "Epoch 55/100 | Loss: 40.3478 | Acc: 0.7828\n",
      "Epoch 56/100 | Loss: 39.4945 | Acc: 0.7845\n",
      "Epoch 57/100 | Loss: 38.8903 | Acc: 0.7795\n",
      "Epoch 58/100 | Loss: 38.2724 | Acc: 0.7929\n",
      "Epoch 59/100 | Loss: 38.6956 | Acc: 0.7946\n",
      "Epoch 60/100 | Loss: 39.6005 | Acc: 0.7710\n",
      "Epoch 61/100 | Loss: 38.2751 | Acc: 0.8047\n",
      "Epoch 62/100 | Loss: 38.6387 | Acc: 0.7879\n",
      "Epoch 63/100 | Loss: 37.1593 | Acc: 0.7811\n",
      "Epoch 64/100 | Loss: 37.7730 | Acc: 0.8013\n",
      "Epoch 65/100 | Loss: 36.9560 | Acc: 0.8199\n",
      "Epoch 66/100 | Loss: 36.4552 | Acc: 0.8013\n",
      "Epoch 67/100 | Loss: 37.5412 | Acc: 0.7862\n",
      "Epoch 68/100 | Loss: 36.5362 | Acc: 0.8064\n",
      "Epoch 69/100 | Loss: 36.7577 | Acc: 0.8013\n",
      "Epoch 70/100 | Loss: 36.0126 | Acc: 0.8047\n",
      "Epoch 71/100 | Loss: 35.5571 | Acc: 0.8030\n",
      "Epoch 72/100 | Loss: 35.6584 | Acc: 0.8081\n",
      "Epoch 73/100 | Loss: 36.4715 | Acc: 0.7862\n",
      "Epoch 74/100 | Loss: 36.0519 | Acc: 0.7980\n",
      "Epoch 75/100 | Loss: 34.6728 | Acc: 0.8081\n",
      "Epoch 76/100 | Loss: 34.5067 | Acc: 0.8013\n",
      "Epoch 77/100 | Loss: 35.0584 | Acc: 0.8232\n",
      "Epoch 78/100 | Loss: 34.1228 | Acc: 0.8081\n",
      "Epoch 79/100 | Loss: 36.5501 | Acc: 0.7912\n",
      "Epoch 80/100 | Loss: 34.9684 | Acc: 0.8232\n",
      "Epoch 81/100 | Loss: 33.6254 | Acc: 0.8249\n",
      "Epoch 82/100 | Loss: 34.2448 | Acc: 0.8283\n",
      "Epoch 83/100 | Loss: 34.4604 | Acc: 0.8333\n",
      "Epoch 84/100 | Loss: 33.2639 | Acc: 0.8199\n",
      "Epoch 85/100 | Loss: 33.1654 | Acc: 0.8266\n",
      "Epoch 86/100 | Loss: 33.4261 | Acc: 0.8266\n",
      "Epoch 87/100 | Loss: 32.9603 | Acc: 0.8232\n",
      "Epoch 88/100 | Loss: 32.1976 | Acc: 0.8350\n",
      "Epoch 89/100 | Loss: 31.8340 | Acc: 0.8451\n",
      "Epoch 90/100 | Loss: 33.3046 | Acc: 0.8215\n",
      "Epoch 91/100 | Loss: 32.1264 | Acc: 0.8350\n",
      "Epoch 92/100 | Loss: 32.3763 | Acc: 0.8401\n",
      "Epoch 93/100 | Loss: 31.3365 | Acc: 0.8485\n",
      "Epoch 94/100 | Loss: 31.1795 | Acc: 0.8333\n",
      "Epoch 95/100 | Loss: 31.3796 | Acc: 0.8418\n",
      "Epoch 96/100 | Loss: 31.2564 | Acc: 0.8266\n",
      "Epoch 97/100 | Loss: 30.8552 | Acc: 0.8333\n",
      "Epoch 98/100 | Loss: 31.2457 | Acc: 0.8215\n",
      "Epoch 99/100 | Loss: 30.7764 | Acc: 0.8418\n",
      "Epoch 100/100 | Loss: 30.5688 | Acc: 0.8451\n"
     ]
    }
   ],
   "source": [
    "loss_list = []\n",
    "acc_list = []\n",
    "\n",
    "for epoch in range(num_epochs):\n",
    "    model.train()\n",
    "    total_loss = 0\n",
    "    correct = 0\n",
    "    for x, y in dataloader:\n",
    "        x, y = x.to(device), y.to(device)\n",
    "        logits = model(x)\n",
    "        loss = criterion(logits, y)\n",
    "        optimizer.zero_grad()\n",
    "        loss.backward()\n",
    "        optimizer.step()\n",
    "        total_loss += loss.item()\n",
    "        correct += (logits.argmax(1) == y).sum().item()\n",
    "\n",
    "    acc = correct / len(dataset)\n",
    "    loss_list.append(total_loss)\n",
    "    acc_list.append(acc)\n",
    "    print(f\"Epoch {epoch+1}/{num_epochs} | Loss: {total_loss:.4f} | Acc: {acc:.4f}\")\n"
   ]
  },
  {
   "cell_type": "code",
   "execution_count": 10,
   "id": "4b3ddcd9-9fbe-43b0-a72c-62c010c34cae",
   "metadata": {},
   "outputs": [
    {
     "data": {
      "image/png": "[encoded data removed]",
      "text/plain": [
       "<Figure size 1000x400 with 2 Axes>"
      ]
     },
     "metadata": {},
     "output_type": "display_data"
    }
   ],
   "source": [
    "plt.figure(figsize=(10, 4))\n",
    "plt.subplot(1, 2, 1)\n",
    "plt.plot(loss_list, label=\"Loss\")\n",
    "plt.xlabel(\"Epoch\")\n",
    "plt.ylabel(\"Loss\")\n",
    "plt.title(\"Training Loss\")\n",
    "plt.grid(True)\n",
    "plt.legend()\n",
    "\n",
    "plt.subplot(1, 2, 2)\n",
    "plt.plot(acc_list, label=\"Accuracy\", color=\"green\")\n",
    "plt.xlabel(\"Epoch\")\n",
    "plt.ylabel(\"Accuracy\")\n",
    "plt.title(\"Training Accuracy\")\n",
    "plt.grid(True)\n",
    "plt.legend()\n",
    "\n",
    "plt.tight_layout()\n",
    "plt.show()"
   ]
  },
  {
   "cell_type": "code",
   "execution_count": 11,
   "id": "a2c51acf-ce0f-404e-a082-443638621288",
   "metadata": {},
   "outputs": [
    {
     "name": "stdout",
     "output_type": "stream",
     "text": [
      "\n",
      "=== Final Evaluation Metrics ===\n",
      "Accuracy:  0.8468\n",
      "Precision: 0.8840\n",
      "Recall:    0.8269\n",
      "F1 Score:  0.8506\n"
     ]
    },
    {
     "name": "stderr",
     "output_type": "stream",
     "text": [
      "C:\\Users\\LENOVO\\AppData\\Local\\Temp\\ipykernel_31032\\3097250365.py:14: UserWarning: Creating a tensor from a list of numpy.ndarrays is extremely slow. Please consider converting the list to a single numpy.ndarray with numpy.array() before converting to a tensor. (Triggered internally at C:\\actions-runner\\_work\\pytorch\\pytorch\\builder\\windows\\pytorch\\torch\\csrc\\utils\\tensor_new.cpp:281.)\n",
      "  preds = torch.tensor(all_probs).argmax(dim=1).numpy()\n"
     ]
    }
   ],
   "source": [
    "from sklearn.metrics import accuracy_score, precision_score, recall_score, f1_score\n",
    "\n",
    "model.eval()\n",
    "all_probs = []\n",
    "all_labels = []\n",
    "with torch.no_grad():\n",
    "    for inputs, labels in dataloader:\n",
    "        inputs, labels = inputs.to(device), labels.to(device)\n",
    "        outputs = model(inputs)\n",
    "        probs = torch.softmax(outputs, dim=1).cpu().numpy()\n",
    "        all_probs.extend(probs)\n",
    "        all_labels.extend(labels.cpu().numpy())\n",
    "\n",
    "preds = torch.tensor(all_probs).argmax(dim=1).numpy()\n",
    "accuracy = accuracy_score(all_labels, preds)\n",
    "precision = precision_score(all_labels, preds, average='macro')\n",
    "recall = recall_score(all_labels, preds, average='macro')\n",
    "f1 = f1_score(all_labels, preds, average='macro')\n",
    "\n",
    "print(\"\\n=== Final Evaluation Metrics ===\")\n",
    "print(f\"Accuracy:  {accuracy:.4f}\")\n",
    "print(f\"Precision: {precision:.4f}\")\n",
    "print(f\"Recall:    {recall:.4f}\")\n",
    "print(f\"F1 Score:  {f1:.4f}\")"
   ]
  }
 ],
 "metadata": {
  "kernelspec": {
   "display_name": "Python 3 (ipykernel)",
   "language": "python",
   "name": "python3"
  },
  "language_info": {
   "codemirror_mode": {
    "name": "ipython",
    "version": 3
   },
   "file_extension": ".py",
   "mimetype": "text/x-python",
   "name": "python",
   "nbconvert_exporter": "python",
   "pygments_lexer": "ipython3",
   "version": "3.12.1"
  }
 },
 "nbformat": 4,
 "nbformat_minor": 5
}
