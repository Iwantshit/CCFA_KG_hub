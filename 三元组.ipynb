{
 "cells": [
  {
   "cell_type": "code",
   "execution_count": null,
   "id": "0aabf8ab-ba13-4947-b70c-35803616549c",
   "metadata": {
    "ExecuteTime": {
     "start_time": "2025-05-28T03:50:27.934153Z"
    },
    "jupyter": {
     "is_executing": true
    }
   },
   "outputs": [],
   "source": [
    "import os\n",
    "import glob\n",
    "import csv\n",
    "from keybert import KeyBERT\n",
    "import hashlib\n",
    "from sentence_transformers import SentenceTransformer\n",
    "from sklearn.cluster import KMeans\n",
    "from collections import defaultdict\n",
    "import torch"
   ]
  },
  {
   "cell_type": "code",
   "execution_count": 16,
   "id": "8363fbbc-ddce-4218-874a-0e6af8f4e7ae",
   "metadata": {},
   "outputs": [],
   "source": [
    "root_dir = \"spider\"\n",
    "conferences = [\"AAAI\", \"CVPR\", \"ICML\", \"KDD\", \"NeurIPS1\"]\n",
    "output_csv = \"triplets.csv\"\n"
   ]
  },
  {
   "cell_type": "code",
   "execution_count": 19,
   "id": "787d5e3f-3a3e-4c55-b054-d6b3ce852537",
   "metadata": {},
   "outputs": [],
   "source": [
    "kw_model = KeyBERT()\n",
    "bert_model = SentenceTransformer(\"all-MiniLM-L6-v2\", device=\"cuda\" if torch.cuda.is_available() else \"cpu\")\n",
    "triplets = []"
   ]
  },
  {
   "cell_type": "code",
   "execution_count": 20,
   "id": "26d1ec55-540d-4e8a-b092-759f59419533",
   "metadata": {},
   "outputs": [],
   "source": [
    "def extract_keywords(text, top_n=5):\n",
    "    keywords = kw_model.extract_keywords(text, top_n=top_n, stop_words='english')\n",
    "    return [kw[0] for kw in keywords]"
   ]
  },
  {
   "cell_type": "code",
   "execution_count": 21,
   "id": "4f8e3465-8922-4318-891f-bcfd93a7c318",
   "metadata": {},
   "outputs": [],
   "source": [
    "def hash_filename(filepath):\n",
    "    return hashlib.md5(filepath.encode()).hexdigest()"
   ]
  },
  {
   "cell_type": "code",
   "execution_count": 26,
   "id": "f7fbc497-7428-4894-9677-9ea87515d4ca",
   "metadata": {},
   "outputs": [],
   "source": [
    "for conf in conferences:\n",
    "    txt_dir = os.path.join(root_dir, conf, \"txt\")\n",
    "    for txt_path in glob.glob(os.path.join(txt_dir, \"*.txt\")):\n",
    "        with open(txt_path, \"r\", encoding='utf-8', errors='ignore') as f:\n",
    "            text = f.read()\n",
    "        paper_id = hash_filename(txt_path)  # 避免路径过长\n",
    "        keywords = extract_keywords(text)\n",
    "\n",
    "        # 添加关系: 论文属于会议weeew\n",
    "        triplets.append((paper_id, \"published_in\", conf))\n",
    "\n",
    "        # 添加关系: 论文包含关键词\n",
    "        for kw in keywords:\n",
    "            triplets.append((paper_id, \"has_keyword\", kw))\n",
    "\n",
    "        # 手动映射方式（已废弃）\n",
    "        # field_dict = {\n",
    "        #     \"vision\": \"Computer Vision\", \"image\": \"Computer Vision\", \"transformer\": \"Deep Learning\",\n",
    "        #     \"reinforcement\": \"Reinforcement Learning\", \"policy\": \"Reinforcement Learning\", \"language\": \"Natural Language Processing\",\n",
    "        #     \"text\": \"Natural Language Processing\", \"graph\": \"Graph Learning\", \"music\": \"Creative AI\",\n",
    "        # }\n",
    "        # for kw in keywords:\n",
    "        #     for k, v in field_dict.items():\n",
    "        #         if k in kw.lower():\n",
    "        #             triplets.append((kw, \"belongs_to\", v))\n",
    "        #             breakd\n",
    "\n",
    "# 自动聚类关键词并添加 belongs_to 三元组\n",
    "all_keywords = list(set([t for (_, r, t) in triplets if r == \"has_keyword\"]))\n",
    "keyword_embeddings = bert_model.encode(all_keywords, batch_size=64, convert_to_tensor=True, device=bert_model.device)\n"
   ]
  },
  {
   "cell_type": "code",
   "execution_count": 27,
   "id": "07a07358-3f77-4d2f-9db3-5abde208c00c",
   "metadata": {},
   "outputs": [],
   "source": [
    "n_clusters = 6 # 分6个主题，可调\n",
    "kmeans = KMeans(n_clusters=n_clusters, random_state=42)\n",
    "labels = kmeans.fit_predict(keyword_embeddings.cpu().numpy())"
   ]
  },
  {
   "cell_type": "code",
   "execution_count": 28,
   "id": "1731c392-261f-4c8a-a531-d5c5ee7759c4",
   "metadata": {},
   "outputs": [],
   "source": [
    "topic_names = {\n",
    "    0: \"Natural Language Processing\",\n",
    "    1: \"Computer Vision\",\n",
    "    2: \"Deep Learning\",\n",
    "    3: \"Reinforcement Learning\",\n",
    "    4: \"Graph Learning\",\n",
    "    5: \"Creative AI\"\n",
    "}"
   ]
  },
  {
   "cell_type": "code",
   "execution_count": 29,
   "id": "519b9754-cafd-46de-9af9-ac178fadf301",
   "metadata": {},
   "outputs": [],
   "source": [
    "cluster_map = {kw: topic_names.get(int(label), f\"Topic_{label}\") for kw, label in zip(all_keywords, labels)}"
   ]
  },
  {
   "cell_type": "code",
   "execution_count": 30,
   "id": "98b9bcf5-33db-41b3-9750-03e9a5b3b74e",
   "metadata": {},
   "outputs": [],
   "source": [
    "for h, r, t in list(triplets):\n",
    "    if r == \"has_keyword\" and t in cluster_map:\n",
    "        triplets.append((t, \"belongs_to\", cluster_map[t]))"
   ]
  },
  {
   "cell_type": "code",
   "execution_count": 31,
   "id": "635329ab-ca66-4b0e-9a72-2f5fb1b16542",
   "metadata": {},
   "outputs": [
    {
     "name": "stdout",
     "output_type": "stream",
     "text": [
      "已完成三元组构建，共生成 13068 条，保存在 triplets.csv\n"
     ]
    }
   ],
   "source": [
    "with open(output_csv, \"w\", newline='', encoding='utf-8') as f:\n",
    "    writer = csv.writer(f)\n",
    "    writer.writerow([\"head\", \"relation\", \"tail\"])\n",
    "    for h, r, t in triplets:\n",
    "        writer.writerow([h, r, t])\n",
    "\n",
    "print(f\"已完成三元组构建，共生成 {len(triplets)} 条，保存在 {output_csv}\")\n"
   ]
  },
  {
   "cell_type": "code",
   "execution_count": null,
   "id": "53026ac2-56b5-4d31-a9c0-7d6edc055b6e",
   "metadata": {},
   "outputs": [],
   "source": []
  }
 ],
 "metadata": {
  "kernelspec": {
   "display_name": "Python 3 (ipykernel)",
   "language": "python",
   "name": "python3"
  },
  "language_info": {
   "codemirror_mode": {
    "name": "ipython",
    "version": 3
   },
   "file_extension": ".py",
   "mimetype": "text/x-python",
   "name": "python",
   "nbconvert_exporter": "python",
   "pygments_lexer": "ipython3",
   "version": "3.12.1"
  }
 },
 "nbformat": 4,
 "nbformat_minor": 5
}
