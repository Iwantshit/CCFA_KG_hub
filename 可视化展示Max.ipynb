{
 "cells": [
  {
   "cell_type": "code",
   "execution_count": 1,
   "id": "993a4394-218b-4d2c-9eb1-6570c87d3bd6",
   "metadata": {},
   "outputs": [],
   "source": [
    "from pyvis.network import Network\n",
    "import pandas as pd\n",
    "from collections import defaultdict"
   ]
  },
  {
   "cell_type": "code",
   "execution_count": 3,
   "id": "3d0b381c-d551-4467-b358-3e722a752b11",
   "metadata": {},
   "outputs": [
    {
     "name": "stdout",
     "output_type": "stream",
     "text": [
      "Warning: When  cdn_resources is 'local' jupyter notebook has issues displaying graphics on chrome/safari. Use cdn_resources='in_line' or cdn_resources='remote' if you have issues viewing graphics in a notebook.\n"
     ]
    }
   ],
   "source": [
    "df = pd.read_csv(\"triplets.csv\")\n",
    "\n",
    "# 初始化 pyvis 图\n",
    "net = Network(height=\"800px\", width=\"100%\", bgcolor=\"#222222\", font_color=\"white\", notebook=True)\n",
    "net.toggle_physics(True)\n",
    "\n",
    "# 统计节点频率\n",
    "node_freq = defaultdict(int)\n",
    "node_type = defaultdict(lambda: \"Unknown\")  # 论文/会议/关键词\n",
    "for _, row in df.iterrows():\n",
    "    h, r, t = row['head'], row['relation'], row['tail']\n",
    "    node_freq[h] += 1\n",
    "    node_freq[t] += 1\n",
    "\n",
    "    if r == \"published_in\":\n",
    "        node_type[h] = \"Paper\"\n",
    "        node_type[t] = \"Conference\"\n",
    "    elif r == \"has_keyword\":\n",
    "        node_type[h] = \"Paper\"\n",
    "        node_type[t] = \"Keyword\"\n",
    "    elif r == \"belongs_to\":\n",
    "        node_type[h] = \"Keyword\"\n",
    "        node_type[t] = \"Topic\"\n",
    "\n",
    "# 显示用颜色映射\n",
    "color_map = {\n",
    "    \"Paper\": \"deepskyblue\",\n",
    "    \"Conference\": \"orange\",\n",
    "    \"Keyword\": \"lightgreen\",\n",
    "    \"Topic\": \"violet\",\n",
    "    \"Unknown\": \"gray\"\n",
    "}\n"
   ]
  },
  {
   "cell_type": "code",
   "execution_count": 4,
   "id": "ae761ed3-91c2-4a38-9a33-8f879db2cabd",
   "metadata": {},
   "outputs": [],
   "source": [
    "def normalize_size(freq, min_size=10, max_size=40):\n",
    "    min_freq = min(node_freq.values())\n",
    "    max_freq = max(node_freq.values())\n",
    "    if max_freq == min_freq:\n",
    "        return (min_size + max_size) / 2\n",
    "    return min_size + (freq - min_freq) / (max_freq - min_freq) * (max_size - min_size)"
   ]
  },
  {
   "cell_type": "code",
   "execution_count": 5,
   "id": "220985b5-ab8f-4ffb-9b4b-9151987649d5",
   "metadata": {},
   "outputs": [],
   "source": [
    "added_nodes = set()\n",
    "for _, row in df.iterrows():\n",
    "    h, r, t = row['head'], row['relation'], row['tail']\n",
    "\n",
    "    for node in [h, t]:\n",
    "        if node not in added_nodes:\n",
    "            size = normalize_size(node_freq[node])\n",
    "            net.add_node(node, label=node, title=node, size=size)\n",
    "            added_nodes.add(node)\n",
    "\n",
    "    net.add_edge(h, t, label=r)"
   ]
  },
  {
   "cell_type": "code",
   "execution_count": 6,
   "id": "96c27a86-b7db-4b96-801e-61c19899b669",
   "metadata": {},
   "outputs": [
    {
     "name": "stdout",
     "output_type": "stream",
     "text": [
      "knowledge_graph_max_color_max.html\n",
      "已生成\n"
     ]
    }
   ],
   "source": [
    "net.show(\"knowledge_graph_max_color.html\")\n",
    "print(\"已生成\")"
   ]
  },
  {
   "cell_type": "code",
   "execution_count": null,
   "id": "fde2bbfa-084f-4a84-ba89-63b5a3b0ae38",
   "metadata": {},
   "outputs": [],
   "source": []
  }
 ],
 "metadata": {
  "kernelspec": {
   "display_name": "Python 3 (ipykernel)",
   "language": "python",
   "name": "python3"
  },
  "language_info": {
   "codemirror_mode": {
    "name": "ipython",
    "version": 3
   },
   "file_extension": ".py",
   "mimetype": "text/x-python",
   "name": "python",
   "nbconvert_exporter": "python",
   "pygments_lexer": "ipython3",
   "version": "3.12.1"
  }
 },
 "nbformat": 4,
 "nbformat_minor": 5
}
